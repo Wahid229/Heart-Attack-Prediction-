{
  "cells": [
    {
      "cell_type": "markdown",
      "id": "a07bb59c",
      "metadata": {
        "id": "a07bb59c"
      },
      "source": [
        "# Predicting Heart Disease using Machine Learning "
      ]
    },
    {
      "cell_type": "markdown",
      "id": "feb1af84",
      "metadata": {
        "id": "feb1af84"
      },
      "source": [
        "This notebook uses various Python based machine learning and data science libraries in an attempt to build a machine learning model capable of predicting whether or not someone has a Heart Disease based on their medical attributes.\n",
        "We're going to take the following approach:\n",
        "1.\tProblem Definition\n",
        "2.\tData\n",
        "3.\tEvaluation\n",
        "4.\tFeatures\n",
        "5.\tModelling\n",
        "6.\tExperimentation\n",
        "\n",
        "\n",
        "\n",
        "    1. Problem Definition\n",
        "In a statement,\n",
        "Given clinical parameters about a patient, can we predict whether or not a they have a heart disease or not?\n",
        "\n",
        "\n",
        "    2. Data\n",
        "\n",
        "    Heart Disease UCI - Kaggle Version\n",
        "\n",
        "    3.Evaluation\n",
        "If we can reach 85% of accuracy at predicting whether or not a patient has heart disease during the proof of concept, we'll pursue the project.\n",
        "\n",
        "    4.Features\n",
        "The following are the features we'll use to predict our target variable (heart disease or no heart disease).\n"
      ]
    },
    {
      "cell_type": "code",
      "execution_count": 2,
      "id": "b78cc3ec",
      "metadata": {
        "colab": {
          "base_uri": "https://localhost:8080/",
          "height": 206
        },
        "id": "b78cc3ec",
        "outputId": "eae338f3-faff-4b61-d728-4b4669dd9706"
      },
      "outputs": [
        {
          "data": {
            "text/html": [
              "\n",
              "  <div id=\"df-a8afdcb3-a0c6-455c-92a4-6e74bcbcf426\">\n",
              "    <div class=\"colab-df-container\">\n",
              "      <div>\n",
              "<style scoped>\n",
              "    .dataframe tbody tr th:only-of-type {\n",
              "        vertical-align: middle;\n",
              "    }\n",
              "\n",
              "    .dataframe tbody tr th {\n",
              "        vertical-align: top;\n",
              "    }\n",
              "\n",
              "    .dataframe thead th {\n",
              "        text-align: right;\n",
              "    }\n",
              "</style>\n",
              "<table border=\"1\" class=\"dataframe\">\n",
              "  <thead>\n",
              "    <tr style=\"text-align: right;\">\n",
              "      <th></th>\n",
              "      <th>age</th>\n",
              "      <th>sex</th>\n",
              "      <th>cp</th>\n",
              "      <th>trtbps</th>\n",
              "      <th>chol</th>\n",
              "      <th>fbs</th>\n",
              "      <th>restecg</th>\n",
              "      <th>thalachh</th>\n",
              "      <th>exng</th>\n",
              "      <th>oldpeak</th>\n",
              "      <th>slp</th>\n",
              "      <th>caa</th>\n",
              "      <th>thall</th>\n",
              "      <th>output</th>\n",
              "    </tr>\n",
              "  </thead>\n",
              "  <tbody>\n",
              "    <tr>\n",
              "      <th>0</th>\n",
              "      <td>63</td>\n",
              "      <td>1</td>\n",
              "      <td>3</td>\n",
              "      <td>145</td>\n",
              "      <td>233</td>\n",
              "      <td>1</td>\n",
              "      <td>0</td>\n",
              "      <td>150</td>\n",
              "      <td>0</td>\n",
              "      <td>2.3</td>\n",
              "      <td>0</td>\n",
              "      <td>0</td>\n",
              "      <td>1</td>\n",
              "      <td>1</td>\n",
              "    </tr>\n",
              "    <tr>\n",
              "      <th>1</th>\n",
              "      <td>37</td>\n",
              "      <td>1</td>\n",
              "      <td>2</td>\n",
              "      <td>130</td>\n",
              "      <td>250</td>\n",
              "      <td>0</td>\n",
              "      <td>1</td>\n",
              "      <td>187</td>\n",
              "      <td>0</td>\n",
              "      <td>3.5</td>\n",
              "      <td>0</td>\n",
              "      <td>0</td>\n",
              "      <td>2</td>\n",
              "      <td>1</td>\n",
              "    </tr>\n",
              "    <tr>\n",
              "      <th>2</th>\n",
              "      <td>41</td>\n",
              "      <td>0</td>\n",
              "      <td>1</td>\n",
              "      <td>130</td>\n",
              "      <td>204</td>\n",
              "      <td>0</td>\n",
              "      <td>0</td>\n",
              "      <td>172</td>\n",
              "      <td>0</td>\n",
              "      <td>1.4</td>\n",
              "      <td>2</td>\n",
              "      <td>0</td>\n",
              "      <td>2</td>\n",
              "      <td>1</td>\n",
              "    </tr>\n",
              "    <tr>\n",
              "      <th>3</th>\n",
              "      <td>56</td>\n",
              "      <td>1</td>\n",
              "      <td>1</td>\n",
              "      <td>120</td>\n",
              "      <td>236</td>\n",
              "      <td>0</td>\n",
              "      <td>1</td>\n",
              "      <td>178</td>\n",
              "      <td>0</td>\n",
              "      <td>0.8</td>\n",
              "      <td>2</td>\n",
              "      <td>0</td>\n",
              "      <td>2</td>\n",
              "      <td>1</td>\n",
              "    </tr>\n",
              "    <tr>\n",
              "      <th>4</th>\n",
              "      <td>57</td>\n",
              "      <td>0</td>\n",
              "      <td>0</td>\n",
              "      <td>120</td>\n",
              "      <td>354</td>\n",
              "      <td>0</td>\n",
              "      <td>1</td>\n",
              "      <td>163</td>\n",
              "      <td>1</td>\n",
              "      <td>0.6</td>\n",
              "      <td>2</td>\n",
              "      <td>0</td>\n",
              "      <td>2</td>\n",
              "      <td>1</td>\n",
              "    </tr>\n",
              "  </tbody>\n",
              "</table>\n",
              "</div>\n",
              "      <button class=\"colab-df-convert\" onclick=\"convertToInteractive('df-a8afdcb3-a0c6-455c-92a4-6e74bcbcf426')\"\n",
              "              title=\"Convert this dataframe to an interactive table.\"\n",
              "              style=\"display:none;\">\n",
              "        \n",
              "  <svg xmlns=\"http://www.w3.org/2000/svg\" height=\"24px\"viewBox=\"0 0 24 24\"\n",
              "       width=\"24px\">\n",
              "    <path d=\"M0 0h24v24H0V0z\" fill=\"none\"/>\n",
              "    <path d=\"M18.56 5.44l.94 2.06.94-2.06 2.06-.94-2.06-.94-.94-2.06-.94 2.06-2.06.94zm-11 1L8.5 8.5l.94-2.06 2.06-.94-2.06-.94L8.5 2.5l-.94 2.06-2.06.94zm10 10l.94 2.06.94-2.06 2.06-.94-2.06-.94-.94-2.06-.94 2.06-2.06.94z\"/><path d=\"M17.41 7.96l-1.37-1.37c-.4-.4-.92-.59-1.43-.59-.52 0-1.04.2-1.43.59L10.3 9.45l-7.72 7.72c-.78.78-.78 2.05 0 2.83L4 21.41c.39.39.9.59 1.41.59.51 0 1.02-.2 1.41-.59l7.78-7.78 2.81-2.81c.8-.78.8-2.07 0-2.86zM5.41 20L4 18.59l7.72-7.72 1.47 1.35L5.41 20z\"/>\n",
              "  </svg>\n",
              "      </button>\n",
              "      \n",
              "  <style>\n",
              "    .colab-df-container {\n",
              "      display:flex;\n",
              "      flex-wrap:wrap;\n",
              "      gap: 12px;\n",
              "    }\n",
              "\n",
              "    .colab-df-convert {\n",
              "      background-color: #E8F0FE;\n",
              "      border: none;\n",
              "      border-radius: 50%;\n",
              "      cursor: pointer;\n",
              "      display: none;\n",
              "      fill: #1967D2;\n",
              "      height: 32px;\n",
              "      padding: 0 0 0 0;\n",
              "      width: 32px;\n",
              "    }\n",
              "\n",
              "    .colab-df-convert:hover {\n",
              "      background-color: #E2EBFA;\n",
              "      box-shadow: 0px 1px 2px rgba(60, 64, 67, 0.3), 0px 1px 3px 1px rgba(60, 64, 67, 0.15);\n",
              "      fill: #174EA6;\n",
              "    }\n",
              "\n",
              "    [theme=dark] .colab-df-convert {\n",
              "      background-color: #3B4455;\n",
              "      fill: #D2E3FC;\n",
              "    }\n",
              "\n",
              "    [theme=dark] .colab-df-convert:hover {\n",
              "      background-color: #434B5C;\n",
              "      box-shadow: 0px 1px 3px 1px rgba(0, 0, 0, 0.15);\n",
              "      filter: drop-shadow(0px 1px 2px rgba(0, 0, 0, 0.3));\n",
              "      fill: #FFFFFF;\n",
              "    }\n",
              "  </style>\n",
              "\n",
              "      <script>\n",
              "        const buttonEl =\n",
              "          document.querySelector('#df-a8afdcb3-a0c6-455c-92a4-6e74bcbcf426 button.colab-df-convert');\n",
              "        buttonEl.style.display =\n",
              "          google.colab.kernel.accessAllowed ? 'block' : 'none';\n",
              "\n",
              "        async function convertToInteractive(key) {\n",
              "          const element = document.querySelector('#df-a8afdcb3-a0c6-455c-92a4-6e74bcbcf426');\n",
              "          const dataTable =\n",
              "            await google.colab.kernel.invokeFunction('convertToInteractive',\n",
              "                                                     [key], {});\n",
              "          if (!dataTable) return;\n",
              "\n",
              "          const docLinkHtml = 'Like what you see? Visit the ' +\n",
              "            '<a target=\"_blank\" href=https://colab.research.google.com/notebooks/data_table.ipynb>data table notebook</a>'\n",
              "            + ' to learn more about interactive tables.';\n",
              "          element.innerHTML = '';\n",
              "          dataTable['output_type'] = 'display_data';\n",
              "          await google.colab.output.renderOutput(dataTable, element);\n",
              "          const docLink = document.createElement('div');\n",
              "          docLink.innerHTML = docLinkHtml;\n",
              "          element.appendChild(docLink);\n",
              "        }\n",
              "      </script>\n",
              "    </div>\n",
              "  </div>\n",
              "  "
            ],
            "text/plain": [
              "   age  sex  cp  trtbps  chol  fbs  restecg  thalachh  exng  oldpeak  slp  \\\n",
              "0   63    1   3     145   233    1        0       150     0      2.3    0   \n",
              "1   37    1   2     130   250    0        1       187     0      3.5    0   \n",
              "2   41    0   1     130   204    0        0       172     0      1.4    2   \n",
              "3   56    1   1     120   236    0        1       178     0      0.8    2   \n",
              "4   57    0   0     120   354    0        1       163     1      0.6    2   \n",
              "\n",
              "   caa  thall  output  \n",
              "0    0      1       1  \n",
              "1    0      2       1  \n",
              "2    0      2       1  \n",
              "3    0      2       1  \n",
              "4    0      2       1  "
            ]
          },
          "execution_count": 2,
          "metadata": {},
          "output_type": "execute_result"
        }
      ],
      "source": [
        "import pandas as pd\n",
        "dataset=pd.read_csv('heart.csv')\n",
        "dataset.head()"
      ]
    },
    {
      "cell_type": "markdown",
      "id": "bbd033c9",
      "metadata": {
        "id": "bbd033c9"
      },
      "source": [
        "Features\n",
        "\n",
        "\n",
        "\n",
        "The following are the features we'll use to predict our target variable (heart disease or no heart disease).\n",
        "\n",
        "1.\tage - age in years\n",
        "\n",
        "2.\tsex - (1 = male; 0 = female)\n",
        "\n",
        "3.\tcp - chest pain type\n",
        "    *\t0: Typical angina: chest pain related decrease blood supply to the heart\n",
        "    *   1: Atypical angina: chest pain not related to heart\n",
        "    *   2: Non-anginal pain: typically esophageal spasms (non heart related)\n",
        "    *\t3: Asymptomatic: chest pain not showing signs of disease\n",
        "\n",
        "4.\ttrestbps - resting blood pressure (in mm Hg on admission to the hospital)\n",
        "    \n",
        "    \n",
        "        •*\tanything above 130-140 is typically cause for concern\n",
        "\n",
        "5.\tchol - serum cholestoral in mg/dl\n",
        "       \n",
        "       •*\tserum = LDL + HDL + .2 * triglycerides\n",
        "       •*\tabove 200 is cause for concern\n",
        "\n",
        "6.\tfbs - (fasting blood sugar > 120 mg/dl) (1 = true; 0 = false)\n",
        "        \n",
        "        *•\t'>126' mg/dL signals diabetes\n",
        "\n",
        "7.\trestecg - resting electrocardiographic results\n",
        "            \n",
        "           *•\t0: Nothing to note\n",
        "        *•\t1: ST-T Wave abnormality\n",
        "            *\tcan range from mild symptoms to severe problems\n",
        "            *\tsignals non-normal heart beat\n",
        "        •*\t2: Possible or definite left ventricular hypertrophy\n",
        "                *\tEnlarged heart's main pumping chamber\n",
        "\n",
        "8.\tthalach - maximum heart rate achieved\n",
        "\n",
        "9.\texang - exercise induced angina (1 = yes; 0 = no)\n",
        "\n",
        "10.\toldpeak - ST depression induced by exercise relative to rest\n",
        "    \n",
        "        •\tlooks at stress of heart during excercise\n",
        "        •\tunhealthy heart will stress more\n",
        "\n",
        "11.\tslope - the slope of the peak exercise ST segment\n",
        "    \n",
        "        •\t0: Upsloping: better heart rate with excercise (uncommon)\n",
        "        •\t1: Flatsloping: minimal change (typical healthy heart)\n",
        "        •\t2: Downslopins: signs of unhealthy heart\n",
        "\n",
        "12.\tca - number of major vessels (0-3) colored by flourosopy\n",
        "\n",
        "        •\tcolored vessel means the doctor can see the blood passing through\n",
        "        •\tthe more blood movement the better (no clots)\n",
        "\n",
        "13.\tthal - thalium stress result\n",
        "        \n",
        "        •\t1,3: normal\n",
        "        •\t6: fixed defect: used to be defect but ok now\n",
        "        •\t7: reversable defect: no proper blood movement when excercising\n",
        "\n",
        "14.\ttarget - have disease or not (1=yes, 0=no) (= the predicted attribute)\n",
        "\n"
      ]
    },
    {
      "cell_type": "markdown",
      "id": "sCV3k5qesKp8",
      "metadata": {
        "id": "sCV3k5qesKp8"
      },
      "source": [
        "#Importing Libraries"
      ]
    },
    {
      "cell_type": "code",
      "execution_count": 9,
      "id": "2b6a6058",
      "metadata": {
        "id": "2b6a6058"
      },
      "outputs": [],
      "source": [
        "import numpy as np\n",
        "from sklearn.model_selection import train_test_split\n",
        "from sklearn.svm import SVC\n",
        "from sklearn.linear_model import LogisticRegression\n",
        "from sklearn.naive_bayes import GaussianNB\n",
        "from sklearn.metrics import confusion_matrix,accuracy_score\n",
        "from sklearn.tree import DecisionTreeClassifier\n",
        "import statsmodels.api as sm\n",
        "from sklearn.preprocessing import MinMaxScaler\n",
        "import warnings\n",
        "warnings.filterwarnings(\"ignore\")\n"
      ]
    },
    {
      "cell_type": "markdown",
      "id": "QaTHFUk7sRbW",
      "metadata": {
        "id": "QaTHFUk7sRbW"
      },
      "source": [
        "#Assigning the input and output variables and checking value count of Output variable"
      ]
    },
    {
      "cell_type": "code",
      "execution_count": 4,
      "id": "43996299",
      "metadata": {
        "colab": {
          "base_uri": "https://localhost:8080/"
        },
        "id": "43996299",
        "outputId": "bccea155-95db-4b57-e3ba-ff481488b1e7"
      },
      "outputs": [
        {
          "data": {
            "text/plain": [
              "1    165\n",
              "0    138\n",
              "Name: output, dtype: int64"
            ]
          },
          "execution_count": 4,
          "metadata": {},
          "output_type": "execute_result"
        }
      ],
      "source": [
        "X=dataset.drop('output',axis =1)#input variable\n",
        "y=dataset['output']#output variable\n",
        "y.value_counts()"
      ]
    },
    {
      "cell_type": "markdown",
      "id": "3CUPy5QgY9Hq",
      "metadata": {
        "id": "3CUPy5QgY9Hq"
      },
      "source": [
        "#Feature Selection (Data- Categorical)"
      ]
    },
    {
      "cell_type": "code",
      "execution_count": 6,
      "id": "8a71a324",
      "metadata": {
        "colab": {
          "base_uri": "https://localhost:8080/",
          "height": 511
        },
        "id": "8a71a324",
        "outputId": "b0dd2235-11c0-4a57-9604-903ca32c6e91"
      },
      "outputs": [
        {
          "data": {
            "text/html": [
              "<table class=\"simpletable\">\n",
              "<caption>Generalized Linear Model Regression Results</caption>\n",
              "<tr>\n",
              "  <th>Dep. Variable:</th>        <td>output</td>      <th>  No. Observations:  </th>  <td>   303</td> \n",
              "</tr>\n",
              "<tr>\n",
              "  <th>Model:</th>                  <td>GLM</td>       <th>  Df Residuals:      </th>  <td>   290</td> \n",
              "</tr>\n",
              "<tr>\n",
              "  <th>Model Family:</th>        <td>Binomial</td>     <th>  Df Model:          </th>  <td>    12</td> \n",
              "</tr>\n",
              "<tr>\n",
              "  <th>Link Function:</th>         <td>logit</td>      <th>  Scale:             </th> <td>  1.0000</td>\n",
              "</tr>\n",
              "<tr>\n",
              "  <th>Method:</th>                <td>IRLS</td>       <th>  Log-Likelihood:    </th> <td> -106.64</td>\n",
              "</tr>\n",
              "<tr>\n",
              "  <th>Date:</th>            <td>Sun, 17 Apr 2022</td> <th>  Deviance:          </th> <td>  213.27</td>\n",
              "</tr>\n",
              "<tr>\n",
              "  <th>Time:</th>                <td>12:00:22</td>     <th>  Pearson chi2:      </th>  <td>  279.</td> \n",
              "</tr>\n",
              "<tr>\n",
              "  <th>No. Iterations:</th>          <td>6</td>        <th>                     </th>     <td> </td>   \n",
              "</tr>\n",
              "<tr>\n",
              "  <th>Covariance Type:</th>     <td>nonrobust</td>    <th>                     </th>     <td> </td>   \n",
              "</tr>\n",
              "</table>\n",
              "<table class=\"simpletable\">\n",
              "<tr>\n",
              "      <td></td>        <th>coef</th>     <th>std err</th>      <th>z</th>      <th>P>|z|</th>  <th>[0.025</th>    <th>0.975]</th>  \n",
              "</tr>\n",
              "<tr>\n",
              "  <th>age</th>      <td>    0.0128</td> <td>    0.019</td> <td>    0.670</td> <td> 0.503</td> <td>   -0.025</td> <td>    0.050</td>\n",
              "</tr>\n",
              "<tr>\n",
              "  <th>sex</th>      <td>   -1.6381</td> <td>    0.452</td> <td>   -3.625</td> <td> 0.000</td> <td>   -2.524</td> <td>   -0.752</td>\n",
              "</tr>\n",
              "<tr>\n",
              "  <th>cp</th>       <td>    0.8490</td> <td>    0.184</td> <td>    4.613</td> <td> 0.000</td> <td>    0.488</td> <td>    1.210</td>\n",
              "</tr>\n",
              "<tr>\n",
              "  <th>trtbps</th>   <td>   -0.0153</td> <td>    0.010</td> <td>   -1.562</td> <td> 0.118</td> <td>   -0.035</td> <td>    0.004</td>\n",
              "</tr>\n",
              "<tr>\n",
              "  <th>chol</th>     <td>   -0.0036</td> <td>    0.004</td> <td>   -0.960</td> <td> 0.337</td> <td>   -0.011</td> <td>    0.004</td>\n",
              "</tr>\n",
              "<tr>\n",
              "  <th>fbs</th>      <td>   -0.0115</td> <td>    0.526</td> <td>   -0.022</td> <td> 0.983</td> <td>   -1.042</td> <td>    1.019</td>\n",
              "</tr>\n",
              "<tr>\n",
              "  <th>restecg</th>  <td>    0.5432</td> <td>    0.342</td> <td>    1.589</td> <td> 0.112</td> <td>   -0.127</td> <td>    1.213</td>\n",
              "</tr>\n",
              "<tr>\n",
              "  <th>thalachh</th> <td>    0.0319</td> <td>    0.008</td> <td>    3.779</td> <td> 0.000</td> <td>    0.015</td> <td>    0.048</td>\n",
              "</tr>\n",
              "<tr>\n",
              "  <th>exng</th>     <td>   -0.8920</td> <td>    0.403</td> <td>   -2.215</td> <td> 0.027</td> <td>   -1.681</td> <td>   -0.103</td>\n",
              "</tr>\n",
              "<tr>\n",
              "  <th>oldpeak</th>  <td>   -0.4988</td> <td>    0.209</td> <td>   -2.381</td> <td> 0.017</td> <td>   -0.909</td> <td>   -0.088</td>\n",
              "</tr>\n",
              "<tr>\n",
              "  <th>slp</th>      <td>    0.6092</td> <td>    0.346</td> <td>    1.761</td> <td> 0.078</td> <td>   -0.069</td> <td>    1.287</td>\n",
              "</tr>\n",
              "<tr>\n",
              "  <th>caa</th>      <td>   -0.7725</td> <td>    0.189</td> <td>   -4.080</td> <td> 0.000</td> <td>   -1.144</td> <td>   -0.401</td>\n",
              "</tr>\n",
              "<tr>\n",
              "  <th>thall</th>    <td>   -0.8438</td> <td>    0.287</td> <td>   -2.937</td> <td> 0.003</td> <td>   -1.407</td> <td>   -0.281</td>\n",
              "</tr>\n",
              "</table>"
            ],
            "text/plain": [
              "<class 'statsmodels.iolib.summary.Summary'>\n",
              "\"\"\"\n",
              "                 Generalized Linear Model Regression Results                  \n",
              "==============================================================================\n",
              "Dep. Variable:                 output   No. Observations:                  303\n",
              "Model:                            GLM   Df Residuals:                      290\n",
              "Model Family:                Binomial   Df Model:                           12\n",
              "Link Function:                  logit   Scale:                          1.0000\n",
              "Method:                          IRLS   Log-Likelihood:                -106.64\n",
              "Date:                Sun, 17 Apr 2022   Deviance:                       213.27\n",
              "Time:                        12:00:22   Pearson chi2:                     279.\n",
              "No. Iterations:                     6                                         \n",
              "Covariance Type:            nonrobust                                         \n",
              "==============================================================================\n",
              "                 coef    std err          z      P>|z|      [0.025      0.975]\n",
              "------------------------------------------------------------------------------\n",
              "age            0.0128      0.019      0.670      0.503      -0.025       0.050\n",
              "sex           -1.6381      0.452     -3.625      0.000      -2.524      -0.752\n",
              "cp             0.8490      0.184      4.613      0.000       0.488       1.210\n",
              "trtbps        -0.0153      0.010     -1.562      0.118      -0.035       0.004\n",
              "chol          -0.0036      0.004     -0.960      0.337      -0.011       0.004\n",
              "fbs           -0.0115      0.526     -0.022      0.983      -1.042       1.019\n",
              "restecg        0.5432      0.342      1.589      0.112      -0.127       1.213\n",
              "thalachh       0.0319      0.008      3.779      0.000       0.015       0.048\n",
              "exng          -0.8920      0.403     -2.215      0.027      -1.681      -0.103\n",
              "oldpeak       -0.4988      0.209     -2.381      0.017      -0.909      -0.088\n",
              "slp            0.6092      0.346      1.761      0.078      -0.069       1.287\n",
              "caa           -0.7725      0.189     -4.080      0.000      -1.144      -0.401\n",
              "thall         -0.8438      0.287     -2.937      0.003      -1.407      -0.281\n",
              "==============================================================================\n",
              "\"\"\""
            ]
          },
          "execution_count": 6,
          "metadata": {},
          "output_type": "execute_result"
        }
      ],
      "source": [
        "# statistical way to recall glm, by importing statsmodels.api as sm\n",
        "model_logistic= sm.GLM(y, X, family=sm.families.Binomial()) # logistic regression\n",
        "res = model_logistic.fit() # Fitting the model\n",
        "res.summary()        "
      ]
    },
    {
      "cell_type": "markdown",
      "id": "ak22yDX7cOPX",
      "metadata": {
        "id": "ak22yDX7cOPX"
      },
      "source": [
        "#if p_value<0.05 the feature is selected\n",
        "#Selected features are-** sex, cp, thalachh, exng, oldpeak, caa, thall:**"
      ]
    },
    {
      "cell_type": "markdown",
      "id": "OTZ5e1Fbcdm3",
      "metadata": {
        "id": "OTZ5e1Fbcdm3"
      },
      "source": [
        "# Feature scaling using MinMax Scaler"
      ]
    },
    {
      "cell_type": "code",
      "execution_count": 7,
      "id": "3c623e55",
      "metadata": {
        "id": "3c623e55"
      },
      "outputs": [],
      "source": [
        "#out of selected features- sex, cp, exng, caa, thall, are categorical\n",
        "#continuous features are- thalachh, oldpeak\n",
        "categorical_cols = ['sex', 'cp',  'exng', 'caa','thall', 'output'] \n",
        "continuous_cols = [ 'thalachh', 'oldpeak'] \n",
        "label_col = ['output']"
      ]
    },
    {
      "cell_type": "code",
      "execution_count": 13,
      "id": "69c0e692",
      "metadata": {
        "colab": {
          "base_uri": "https://localhost:8080/",
          "height": 206
        },
        "id": "69c0e692",
        "outputId": "f60cbc35-7007-4f18-d087-d006680c482e"
      },
      "outputs": [
        {
          "data": {
            "text/html": [
              "\n",
              "  <div id=\"df-922f772e-b93e-4acd-bedf-faf56b48b850\">\n",
              "    <div class=\"colab-df-container\">\n",
              "      <div>\n",
              "<style scoped>\n",
              "    .dataframe tbody tr th:only-of-type {\n",
              "        vertical-align: middle;\n",
              "    }\n",
              "\n",
              "    .dataframe tbody tr th {\n",
              "        vertical-align: top;\n",
              "    }\n",
              "\n",
              "    .dataframe thead th {\n",
              "        text-align: right;\n",
              "    }\n",
              "</style>\n",
              "<table border=\"1\" class=\"dataframe\">\n",
              "  <thead>\n",
              "    <tr style=\"text-align: right;\">\n",
              "      <th></th>\n",
              "      <th>thalachh</th>\n",
              "      <th>oldpeak</th>\n",
              "      <th>sex</th>\n",
              "      <th>cp</th>\n",
              "      <th>exng</th>\n",
              "      <th>caa</th>\n",
              "      <th>thall</th>\n",
              "      <th>output</th>\n",
              "    </tr>\n",
              "  </thead>\n",
              "  <tbody>\n",
              "    <tr>\n",
              "      <th>0</th>\n",
              "      <td>0.603053</td>\n",
              "      <td>0.370968</td>\n",
              "      <td>1</td>\n",
              "      <td>3</td>\n",
              "      <td>0</td>\n",
              "      <td>0</td>\n",
              "      <td>1</td>\n",
              "      <td>1</td>\n",
              "    </tr>\n",
              "    <tr>\n",
              "      <th>1</th>\n",
              "      <td>0.885496</td>\n",
              "      <td>0.564516</td>\n",
              "      <td>1</td>\n",
              "      <td>2</td>\n",
              "      <td>0</td>\n",
              "      <td>0</td>\n",
              "      <td>2</td>\n",
              "      <td>1</td>\n",
              "    </tr>\n",
              "    <tr>\n",
              "      <th>2</th>\n",
              "      <td>0.770992</td>\n",
              "      <td>0.225806</td>\n",
              "      <td>0</td>\n",
              "      <td>1</td>\n",
              "      <td>0</td>\n",
              "      <td>0</td>\n",
              "      <td>2</td>\n",
              "      <td>1</td>\n",
              "    </tr>\n",
              "    <tr>\n",
              "      <th>3</th>\n",
              "      <td>0.816794</td>\n",
              "      <td>0.129032</td>\n",
              "      <td>1</td>\n",
              "      <td>1</td>\n",
              "      <td>0</td>\n",
              "      <td>0</td>\n",
              "      <td>2</td>\n",
              "      <td>1</td>\n",
              "    </tr>\n",
              "    <tr>\n",
              "      <th>4</th>\n",
              "      <td>0.702290</td>\n",
              "      <td>0.096774</td>\n",
              "      <td>0</td>\n",
              "      <td>0</td>\n",
              "      <td>1</td>\n",
              "      <td>0</td>\n",
              "      <td>2</td>\n",
              "      <td>1</td>\n",
              "    </tr>\n",
              "  </tbody>\n",
              "</table>\n",
              "</div>\n",
              "      <button class=\"colab-df-convert\" onclick=\"convertToInteractive('df-922f772e-b93e-4acd-bedf-faf56b48b850')\"\n",
              "              title=\"Convert this dataframe to an interactive table.\"\n",
              "              style=\"display:none;\">\n",
              "        \n",
              "  <svg xmlns=\"http://www.w3.org/2000/svg\" height=\"24px\"viewBox=\"0 0 24 24\"\n",
              "       width=\"24px\">\n",
              "    <path d=\"M0 0h24v24H0V0z\" fill=\"none\"/>\n",
              "    <path d=\"M18.56 5.44l.94 2.06.94-2.06 2.06-.94-2.06-.94-.94-2.06-.94 2.06-2.06.94zm-11 1L8.5 8.5l.94-2.06 2.06-.94-2.06-.94L8.5 2.5l-.94 2.06-2.06.94zm10 10l.94 2.06.94-2.06 2.06-.94-2.06-.94-.94-2.06-.94 2.06-2.06.94z\"/><path d=\"M17.41 7.96l-1.37-1.37c-.4-.4-.92-.59-1.43-.59-.52 0-1.04.2-1.43.59L10.3 9.45l-7.72 7.72c-.78.78-.78 2.05 0 2.83L4 21.41c.39.39.9.59 1.41.59.51 0 1.02-.2 1.41-.59l7.78-7.78 2.81-2.81c.8-.78.8-2.07 0-2.86zM5.41 20L4 18.59l7.72-7.72 1.47 1.35L5.41 20z\"/>\n",
              "  </svg>\n",
              "      </button>\n",
              "      \n",
              "  <style>\n",
              "    .colab-df-container {\n",
              "      display:flex;\n",
              "      flex-wrap:wrap;\n",
              "      gap: 12px;\n",
              "    }\n",
              "\n",
              "    .colab-df-convert {\n",
              "      background-color: #E8F0FE;\n",
              "      border: none;\n",
              "      border-radius: 50%;\n",
              "      cursor: pointer;\n",
              "      display: none;\n",
              "      fill: #1967D2;\n",
              "      height: 32px;\n",
              "      padding: 0 0 0 0;\n",
              "      width: 32px;\n",
              "    }\n",
              "\n",
              "    .colab-df-convert:hover {\n",
              "      background-color: #E2EBFA;\n",
              "      box-shadow: 0px 1px 2px rgba(60, 64, 67, 0.3), 0px 1px 3px 1px rgba(60, 64, 67, 0.15);\n",
              "      fill: #174EA6;\n",
              "    }\n",
              "\n",
              "    [theme=dark] .colab-df-convert {\n",
              "      background-color: #3B4455;\n",
              "      fill: #D2E3FC;\n",
              "    }\n",
              "\n",
              "    [theme=dark] .colab-df-convert:hover {\n",
              "      background-color: #434B5C;\n",
              "      box-shadow: 0px 1px 3px 1px rgba(0, 0, 0, 0.15);\n",
              "      filter: drop-shadow(0px 1px 2px rgba(0, 0, 0, 0.3));\n",
              "      fill: #FFFFFF;\n",
              "    }\n",
              "  </style>\n",
              "\n",
              "      <script>\n",
              "        const buttonEl =\n",
              "          document.querySelector('#df-922f772e-b93e-4acd-bedf-faf56b48b850 button.colab-df-convert');\n",
              "        buttonEl.style.display =\n",
              "          google.colab.kernel.accessAllowed ? 'block' : 'none';\n",
              "\n",
              "        async function convertToInteractive(key) {\n",
              "          const element = document.querySelector('#df-922f772e-b93e-4acd-bedf-faf56b48b850');\n",
              "          const dataTable =\n",
              "            await google.colab.kernel.invokeFunction('convertToInteractive',\n",
              "                                                     [key], {});\n",
              "          if (!dataTable) return;\n",
              "\n",
              "          const docLinkHtml = 'Like what you see? Visit the ' +\n",
              "            '<a target=\"_blank\" href=https://colab.research.google.com/notebooks/data_table.ipynb>data table notebook</a>'\n",
              "            + ' to learn more about interactive tables.';\n",
              "          element.innerHTML = '';\n",
              "          dataTable['output_type'] = 'display_data';\n",
              "          await google.colab.output.renderOutput(dataTable, element);\n",
              "          const docLink = document.createElement('div');\n",
              "          docLink.innerHTML = docLinkHtml;\n",
              "          element.appendChild(docLink);\n",
              "        }\n",
              "      </script>\n",
              "    </div>\n",
              "  </div>\n",
              "  "
            ],
            "text/plain": [
              "   thalachh   oldpeak  sex  cp  exng  caa  thall  output\n",
              "0  0.603053  0.370968    1   3     0    0      1       1\n",
              "1  0.885496  0.564516    1   2     0    0      2       1\n",
              "2  0.770992  0.225806    0   1     0    0      2       1\n",
              "3  0.816794  0.129032    1   1     0    0      2       1\n",
              "4  0.702290  0.096774    0   0     1    0      2       1"
            ]
          },
          "execution_count": 13,
          "metadata": {},
          "output_type": "execute_result"
        }
      ],
      "source": [
        "# Applying min-max scaler for continious columns\n",
        "Heart_Cat = dataset[categorical_cols]\n",
        "Heart_Con = MinMaxScaler().fit_transform(dataset[continuous_cols])\n",
        "Heart_Con = pd.DataFrame(Heart_Con)\n",
        "Heart_Con.rename(columns = { 0:'thalachh', 1:'oldpeak'}, inplace = True) # Renaming the columns\n",
        "\n",
        "New_Heart = pd.merge(Heart_Con, Heart_Cat, left_index=True, right_index=True) # Merging the continious columns with categorical columns\n",
        "New_Heart.head()# Displaying top 5 rows of new data"
      ]
    },
    {
      "cell_type": "markdown",
      "id": "xfI_sShwgt4y",
      "metadata": {
        "id": "xfI_sShwgt4y"
      },
      "source": [
        "# Assigning input and output variables from new data"
      ]
    },
    {
      "cell_type": "code",
      "execution_count": 15,
      "id": "YBKhBe6dgr58",
      "metadata": {
        "colab": {
          "base_uri": "https://localhost:8080/"
        },
        "id": "YBKhBe6dgr58",
        "outputId": "a2c53a71-ba54-40d4-8849-02634442572e"
      },
      "outputs": [
        {
          "data": {
            "text/plain": [
              "1    165\n",
              "0    138\n",
              "Name: output, dtype: int64"
            ]
          },
          "execution_count": 15,
          "metadata": {},
          "output_type": "execute_result"
        }
      ],
      "source": [
        "x1=New_Heart.drop('output',axis =1)#input variable\n",
        "y1=New_Heart['output']#output variable\n",
        "y1.value_counts()"
      ]
    },
    {
      "cell_type": "markdown",
      "id": "uAkr4PckhKvu",
      "metadata": {
        "id": "uAkr4PckhKvu"
      },
      "source": [
        "# Selecting Model  (Logistic, SVC, GaussianNB)"
      ]
    },
    {
      "cell_type": "code",
      "execution_count": 22,
      "id": "7hDYBMTChInV",
      "metadata": {
        "id": "7hDYBMTChInV"
      },
      "outputs": [],
      "source": [
        "#Function-for getting models\n",
        "def get_models():\n",
        "    models=dict()\n",
        "\n",
        "    models['lr']=LogisticRegression()   \n",
        "    models['svc1']=SVC(kernel='linear')  \n",
        "    models['svc2']=SVC(kernel='poly')\n",
        "    models['svc3']=SVC(kernel='sigmoid')\n",
        "    models['svc4']=SVC()\n",
        "    models['gnb']=GaussianNB()\n",
        "  \n",
        "    return models"
      ]
    },
    {
      "cell_type": "markdown",
      "id": "A_BnkXIOtAyB",
      "metadata": {
        "id": "A_BnkXIOtAyB"
      },
      "source": [
        "#Applying 1000 MonteCarlo Runs"
      ]
    },
    {
      "cell_type": "code",
      "execution_count": 39,
      "id": "vuVIiF8vjadB",
      "metadata": {
        "id": "vuVIiF8vjadB"
      },
      "outputs": [],
      "source": [
        "#Function- for evaluating models\n",
        "def evaluate_model(model, X, y):\n",
        "    acc = [] \n",
        "    rec=[]\n",
        "    for i in range(1000):\n",
        "        X_train,X_test,y_train,y_test=train_test_split(X,y,test_size=0.3)\n",
        "        m = model.fit(X_train,y_train) # fit the model to trainset\n",
        "        YPred = m.predict(X_test) # predict the output variable in the testset\n",
        "        a = accuracy_score(y_test,YPred) #finding the accuracy\n",
        "        acc.append(a) #appending the accuracy for every run\n",
        "        cm=confusion_matrix(y_test,YPred)\n",
        "        tp=cm[1][1]\n",
        "        fn=cm[1][0]\n",
        "        recall=tp/(tp+fn) \n",
        "        rec.append(recall)\n",
        "        return np.mean(acc), np.mean(rec)"
      ]
    },
    {
      "cell_type": "code",
      "execution_count": 63,
      "id": "eKvilFdEkTCg",
      "metadata": {
        "colab": {
          "base_uri": "https://localhost:8080/"
        },
        "id": "eKvilFdEkTCg",
        "outputId": "e77be743-1efa-42d8-b67e-f705b6726569"
      },
      "outputs": [
        {
          "name": "stdout",
          "output_type": "stream",
          "text": [
            "('lr', (0.8241758241758241, 0.9122807017543859))\n",
            "('svc1', (0.8131868131868132, 0.9375))\n",
            "('svc2', (0.8021978021978022, 0.9433962264150944))\n",
            "('svc3', (0.7142857142857143, 0.6530612244897959))\n",
            "('svc4', (0.8021978021978022, 0.8163265306122449))\n",
            "('gnb', (0.7692307692307693, 0.8604651162790697))\n"
          ]
        }
      ],
      "source": [
        "models = get_models()\n",
        "\n",
        "results, names = list(), list()\n",
        "for name, model in models.items():\n",
        "    scores = evaluate_model(model, x1, y1)\n",
        "\n",
        "    print((name, scores))"
      ]
    },
    {
      "cell_type": "markdown",
      "id": "n3zfjd7pm3db",
      "metadata": {
        "id": "n3zfjd7pm3db"
      },
      "source": [
        "# As per the accuracy and recall Logistic regression model is best for predicting the heart attack"
      ]
    },
    {
      "cell_type": "markdown",
      "id": "GBND6dF7rQk0",
      "metadata": {
        "id": "GBND6dF7rQk0"
      },
      "source": [
        "#Importing the Pickle file"
      ]
    },
    {
      "cell_type": "code",
      "execution_count": 66,
      "id": "GOS4o8BVnK_G",
      "metadata": {
        "id": "GOS4o8BVnK_G"
      },
      "outputs": [],
      "source": [
        "import pickle"
      ]
    },
    {
      "cell_type": "markdown",
      "id": "bqJPQL44rVRy",
      "metadata": {
        "id": "bqJPQL44rVRy"
      },
      "source": [
        "#Dumping the LR model into pickle file"
      ]
    },
    {
      "cell_type": "code",
      "execution_count": 67,
      "id": "zyF59bdins7Y",
      "metadata": {
        "id": "zyF59bdins7Y"
      },
      "outputs": [],
      "source": [
        "filename='heartattackprediction.pkl'\n",
        "pickle.dump(models['lr'],open(filename,'wb'))"
      ]
    }
  ],
  "metadata": {
    "colab": {
      "collapsed_sections": [],
      "name": "Heart Attack Prediction-CA1.ipynb",
      "provenance": []
    },
    "kernelspec": {
      "display_name": "Python 3.10.5 64-bit",
      "language": "python",
      "name": "python3"
    },
    "language_info": {
      "codemirror_mode": {
        "name": "ipython",
        "version": 3
      },
      "file_extension": ".py",
      "mimetype": "text/x-python",
      "name": "python",
      "nbconvert_exporter": "python",
      "pygments_lexer": "ipython3",
      "version": "3.10.5"
    },
    "vscode": {
      "interpreter": {
        "hash": "4eed1de08fe0fbc828f03cfcd1bfee2a4e019c02b612e5ecef15962771d029c2"
      }
    }
  },
  "nbformat": 4,
  "nbformat_minor": 5
}
